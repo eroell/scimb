{
 "cells": [
  {
   "cell_type": "markdown",
   "metadata": {},
   "source": [
    "# Example notebook"
   ]
  },
  {
   "cell_type": "code",
   "execution_count": 2,
   "metadata": {},
   "outputs": [],
   "source": [
    "import numpy as np\n",
    "import scanpy as sc\n",
    "from anndata import AnnData\n",
    "import scimb"
   ]
  },
  {
   "cell_type": "code",
   "execution_count": 3,
   "metadata": {},
   "outputs": [
    {
     "name": "stderr",
     "output_type": "stream",
     "text": [
      "100%|██████████| 23.5M/23.5M [00:01<00:00, 13.3MB/s]\n"
     ]
    }
   ],
   "source": [
    "adata = sc.datasets.pbmc3k_processed()"
   ]
  },
  {
   "cell_type": "code",
   "execution_count": 5,
   "metadata": {},
   "outputs": [
    {
     "data": {
      "text/plain": [
       "louvain\n",
       "CD4 T cells          1144\n",
       "CD14+ Monocytes       480\n",
       "B cells               342\n",
       "CD8 T cells           316\n",
       "NK cells              154\n",
       "FCGR3A+ Monocytes     150\n",
       "Dendritic cells        37\n",
       "Megakaryocytes         15\n",
       "Name: count, dtype: int64"
      ]
     },
     "execution_count": 5,
     "metadata": {},
     "output_type": "execute_result"
    }
   ],
   "source": [
    "adata.obs.louvain.value_counts()"
   ]
  },
  {
   "cell_type": "code",
   "execution_count": 6,
   "metadata": {},
   "outputs": [
    {
     "name": "stderr",
     "output_type": "stream",
     "text": [
      "/Users/eljas.roellin/Documents/scimb/scimb_venv/lib/python3.11/site-packages/anndata/_core/anndata.py:1113: FutureWarning: is_categorical_dtype is deprecated and will be removed in a future version. Use isinstance(dtype, CategoricalDtype) instead\n",
      "  if not is_categorical_dtype(df_full[k]):\n",
      "/Users/eljas.roellin/Documents/scimb/scimb_venv/lib/python3.11/site-packages/anndata/_core/anndata.py:1838: UserWarning: Observation names are not unique. To make them unique, call `.obs_names_make_unique`.\n",
      "  utils.warn_names_duplicates(\"obs\")\n"
     ]
    },
    {
     "data": {
      "text/plain": [
       "louvain\n",
       "CD4 T cells          1144\n",
       "CD14+ Monocytes      1144\n",
       "B cells              1144\n",
       "CD8 T cells          1144\n",
       "NK cells             1144\n",
       "FCGR3A+ Monocytes    1144\n",
       "Dendritic cells      1144\n",
       "Megakaryocytes       1144\n",
       "Name: count, dtype: int64"
      ]
     },
     "execution_count": 6,
     "metadata": {},
     "output_type": "execute_result"
    }
   ],
   "source": [
    "adata_balanced = scimb.pp.oversampling(adata, 'louvain',)\n",
    "adata_balanced.obs.louvain.value_counts()"
   ]
  },
  {
   "cell_type": "markdown",
   "metadata": {},
   "source": [
    "With myst it is possible to link in the text cell of a notebook such as this one the documentation of a function or a class.\n",
    "\n",
    "Let's take as an example the function {func}`scimb.pp.basic_preproc`. \n",
    "You can see that by clicking on the text, the link redirects to the API documentation of the function. \n",
    "Check the raw markdown of this cell to understand how this is specified.\n",
    "\n",
    "This works also for any package listed by `intersphinx`. Go to `docs/conf.py` and look for the `intersphinx_mapping` variable. \n",
    "There, you will see a list of packages (that this package is dependent on) for which this functionality is supported. \n",
    "\n",
    "For instance, we can link to the class {class}`anndata.AnnData`, to the attribute {attr}`anndata.AnnData.obs` or the method {meth}`anndata.AnnData.write`.\n",
    "\n",
    "Again, check the raw markdown of this cell to see how each of these links are specified.\n",
    "\n",
    "You can read more about this in the [intersphinx page](https://www.sphinx-doc.org/en/master/usage/extensions/intersphinx.html) and the [myst page](https://myst-parser.readthedocs.io/en/v0.15.1/syntax/syntax.html#roles-an-in-line-extension-point)."
   ]
  },
  {
   "cell_type": "code",
   "execution_count": 3,
   "metadata": {},
   "outputs": [
    {
     "name": "stdout",
     "output_type": "stream",
     "text": [
      "Implement a preprocessing function here."
     ]
    },
    {
     "data": {
      "text/plain": [
       "0"
      ]
     },
     "execution_count": 3,
     "metadata": {},
     "output_type": "execute_result"
    }
   ],
   "source": [
    "scimb.pp.basic_preproc(adata)"
   ]
  }
 ],
 "metadata": {
  "kernelspec": {
   "display_name": "Python 3.9.12 ('squidpy39')",
   "language": "python",
   "name": "python3"
  },
  "language_info": {
   "codemirror_mode": {
    "name": "ipython",
    "version": 3
   },
   "file_extension": ".py",
   "mimetype": "text/x-python",
   "name": "python",
   "nbconvert_exporter": "python",
   "pygments_lexer": "ipython3",
   "version": "3.11.4"
  },
  "vscode": {
   "interpreter": {
    "hash": "ae6466e8d4f517858789b5c9e8f0ed238fb8964458a36305fca7bddc149e9c64"
   }
  }
 },
 "nbformat": 4,
 "nbformat_minor": 4
}
